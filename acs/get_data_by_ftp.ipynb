{
 "cells": [
  {
   "cell_type": "code",
   "execution_count": 1,
   "metadata": {
    "collapsed": false
   },
   "outputs": [
    {
     "name": "stdout",
     "output_type": "stream",
     "text": [
      "In directory: /home/idies/workspace/persistent/censusdata/rawdata\n"
     ]
    }
   ],
   "source": [
    "from ftplib import FTP\n",
    "import os\n",
    "\n",
    "local_dir = '/home/idies/workspace/persistent/censusdata/'\n",
    "data_dir = local_dir + 'rawdata/'\n",
    "\n",
    "if not (os.getcwd() == local_dir):\n",
    "    os.chdir(local_dir)\n",
    "if not (os.path.exists(data_dir)):\n",
    "    os.makedirs(data_dir)\n",
    "os.chdir(data_dir)\n",
    "print('In directory: '+os.getcwd())"
   ]
  },
  {
   "cell_type": "code",
   "execution_count": 2,
   "metadata": {
    "collapsed": false
   },
   "outputs": [
    {
     "name": "stdout",
     "output_type": "stream",
     "text": [
      "220-    **WARNING**WARNING**WARNING**WARNING**WARNING****WARNING**WARNING**\n",
      "220-\n",
      "220-    This is a Census Bureau computer system. Census Bureau computer \n",
      "220-    systems are provided for the processing of official U.S. Government \n",
      "220-    information only. All data contained within Census Bureau computer \n",
      "220-    systems is owned by the Census Bureau, and may be monitored,intercepted, recorded, read, \n",
      "220-    copied, or captured in any manner and disclosed in any manner, by \n",
      "220-    authorized personnel. THERE IS NO RIGHT OF PRIVACY IN THIS SYSTEM. \n",
      "220-    System personnel may disclose any potential evidence of crime found \n",
      "220-    on Census Bureau computer systems to appropriate authorities. USE OF \n",
      "220-    THIS SYSTEM BY ANY USER, AUTHORIZED OR UNAUTHORIZED, CONSTITUTES \n",
      "220-    CONSENT TO THIS MONITORING, INTERCEPTION RECORDING, READING, COPYING, \n",
      "220-    CAPTURING, and DISCLOSURE OF COMPUTER ACTIVITY. Use of this computer \n",
      "220-    without authorization or for unauthorized purposes is a violation of \n",
      "220-    federal law and punishable by fines or imprisonment (Public Law 99-474).\n",
      "220-\n",
      "220-    **WARNING**WARNING**WARNING**WARNING**WARNING****WARNING**WARNING**\n",
      "220 \n",
      "Done\n"
     ]
    }
   ],
   "source": [
    "ftp = FTP('ftp2.census.gov')\n",
    "ftp.login()\n",
    "print(ftp.getwelcome())\n",
    "#print(ftp.dir())\n",
    "ftp.cwd('programs-surveys/acs/summary_file/2016/data/1_year_entire_sf/')\n",
    "thefilename = 'All_Geographies.zip'\n",
    "with open(thefilename, 'wb') as f:\n",
    "    ftp.retrbinary('RETR {0:}'.format(thefilename), f.write)\n",
    "ftp.quit()\n",
    "print('Done')"
   ]
  },
  {
   "cell_type": "code",
   "execution_count": 12,
   "metadata": {
    "collapsed": false,
    "deletable": true,
    "editable": true
   },
   "outputs": [
    {
     "name": "stdout",
     "output_type": "stream",
     "text": [
      "Reading zipfile...\n",
      "Extracting files...\n",
      "Done\n"
     ]
    }
   ],
   "source": [
    "import zipfile\n",
    "\n",
    "print('Reading zipfile...')\n",
    "thezipfile = zipfile.ZipFile('All_Geographies.zip')\n",
    "\n",
    "print('Extracting files...')\n",
    "thezipfile.extractall()\n",
    "\n",
    "thezipfile.close()\n",
    "print('Done')"
   ]
  },
  {
   "cell_type": "code",
   "execution_count": null,
   "metadata": {
    "collapsed": false
   },
   "outputs": [],
   "source": [
    "os.getcwd()"
   ]
  },
  {
   "cell_type": "code",
   "execution_count": null,
   "metadata": {
    "collapsed": false
   },
   "outputs": [],
   "source": [
    "os.listdir()"
   ]
  },
  {
   "cell_type": "code",
   "execution_count": 14,
   "metadata": {
    "collapsed": false
   },
   "outputs": [
    {
     "name": "stdout",
     "output_type": "stream",
     "text": [
      "In directory: /home/idies/workspace/persistent/censusdata/metadata\n",
      "220-    **WARNING**WARNING**WARNING**WARNING**WARNING****WARNING**WARNING**\n",
      "220-\n",
      "220-    This is a Census Bureau computer system. Census Bureau computer \n",
      "220-    systems are provided for the processing of official U.S. Government \n",
      "220-    information only. All data contained within Census Bureau computer \n",
      "220-    systems is owned by the Census Bureau, and may be monitored,intercepted, recorded, read, \n",
      "220-    copied, or captured in any manner and disclosed in any manner, by \n",
      "220-    authorized personnel. THERE IS NO RIGHT OF PRIVACY IN THIS SYSTEM. \n",
      "220-    System personnel may disclose any potential evidence of crime found \n",
      "220-    on Census Bureau computer systems to appropriate authorities. USE OF \n",
      "220-    THIS SYSTEM BY ANY USER, AUTHORIZED OR UNAUTHORIZED, CONSTITUTES \n",
      "220-    CONSENT TO THIS MONITORING, INTERCEPTION RECORDING, READING, COPYING, \n",
      "220-    CAPTURING, and DISCLOSURE OF COMPUTER ACTIVITY. Use of this computer \n",
      "220-    without authorization or for unauthorized purposes is a violation of \n",
      "220-    federal law and punishable by fines or imprisonment (Public Law 99-474).\n",
      "220-\n",
      "220-    **WARNING**WARNING**WARNING**WARNING**WARNING****WARNING**WARNING**\n",
      "220 \n",
      "Done\n"
     ]
    }
   ],
   "source": [
    "from ftplib import FTP\n",
    "import os\n",
    "\n",
    "local_dir = '/home/idies/workspace/persistent/censusdata/'\n",
    "metadata_dir = local_dir + 'metadata/'\n",
    "\n",
    "if not (os.getcwd() == local_dir):\n",
    "    os.chdir(local_dir)\n",
    "if not (os.path.exists(metadata_dir)):\n",
    "    os.makedirs(metadata_dir)\n",
    "os.chdir(metadata_dir)\n",
    "print('In directory: '+os.getcwd())\n",
    "\n",
    "ftp = FTP('ftp2.census.gov')\n",
    "ftp.login()\n",
    "print(ftp.getwelcome())\n",
    "#print(ftp.dir())\n",
    "ftp.cwd('programs-surveys/acs/summary_file/2016/data/')\n",
    "thefilename = '2016_1yr_Summary_FileTemplates.zip'\n",
    "with open(thefilename, 'wb') as f:\n",
    "    ftp.retrbinary('RETR {0:}'.format(thefilename), f.write)\n",
    "ftp.quit()\n",
    "print('Done')"
   ]
  },
  {
   "cell_type": "code",
   "execution_count": 15,
   "metadata": {
    "collapsed": false
   },
   "outputs": [
    {
     "name": "stdout",
     "output_type": "stream",
     "text": [
      "Reading zipfile...\n",
      "Extracting files...\n",
      "Done\n"
     ]
    }
   ],
   "source": [
    "import zipfile\n",
    "print('Reading zipfile...')\n",
    "thezipfile = zipfile.ZipFile(metadata_dir+'2016_1yr_Summary_FileTemplates.zip')\n",
    "\n",
    "print('Extracting files...')\n",
    "thezipfile.extractall()\n",
    "\n",
    "thezipfile.close()\n",
    "print('Done')"
   ]
  },
  {
   "cell_type": "code",
   "execution_count": null,
   "metadata": {
    "collapsed": false
   },
   "outputs": [],
   "source": [
    "#from ftplib import FTP\n",
    "#import os\n",
    "\n",
    "#local_dir = '/home/idies/workspace/persistent/censusdata/'\n",
    "#geo_dir = local_dir + 'geography/'\n",
    "\n",
    "#if not (os.getcwd() == local_dir):\n",
    "#    os.chdir(local_dir)\n",
    "#if not (os.path.exists(geo_dir)):\n",
    "#    os.makedirs(geo_dir)\n",
    "#os.chdir(geo_dir)\n",
    "#print('In directory: '+os.getcwd())\n",
    "\n",
    "#ftp = FTP('ftp2.census.gov')\n",
    "#ftp.login()\n",
    "#print(ftp.getwelcome())\n",
    "##print(ftp.dir())\n",
    "#ftp.cwd('programs-surveys/acs/summary_file/2016/documentation/geography/')\n",
    "#thefilename = '1_year_Mini_Geo.xlsx'\n",
    "#with open(thefilename, 'wb') as f:\n",
    "#    ftp.retrbinary('RETR {0:}'.format(thefilename), f.write)\n",
    "#ftp.quit()\n",
    "#print('Done')"
   ]
  },
  {
   "cell_type": "code",
   "execution_count": null,
   "metadata": {
    "collapsed": true
   },
   "outputs": [],
   "source": []
  }
 ],
 "metadata": {
  "kernelspec": {
   "display_name": "Python 3",
   "language": "python",
   "name": "python3"
  },
  "language_info": {
   "codemirror_mode": {
    "name": "ipython",
    "version": 3
   },
   "file_extension": ".py",
   "mimetype": "text/x-python",
   "name": "python",
   "nbconvert_exporter": "python",
   "pygments_lexer": "ipython3",
   "version": "3.5.3"
  }
 },
 "nbformat": 4,
 "nbformat_minor": 2
}
