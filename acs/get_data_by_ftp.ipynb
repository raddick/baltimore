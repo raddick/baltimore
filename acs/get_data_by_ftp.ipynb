{
 "cells": [
  {
   "cell_type": "code",
   "execution_count": 7,
   "metadata": {},
   "outputs": [
    {
     "name": "stdout",
     "output_type": "stream",
     "text": [
      "In directory: /home/idies/workspace/Temporary/raddick/census_scratch/acs5/rawdata\n"
     ]
    }
   ],
   "source": [
    "from ftplib import FTP\n",
    "import os\n",
    "import zipfile\n",
    "import tarfile\n",
    "\n",
    "local_dir = '/home/idies/workspace/Storage/raddick/census/'\n",
    "basedir = '/home/idies/workspace/Temporary/raddick/census_scratch/acs5/'\n",
    "rawdata_dirname = basedir+'rawdata'\n",
    "geodir = basedir+'geography/'\n",
    "\n",
    "metadata_dir = basedir+'/metadata/'\n",
    "\n",
    "if not(os.path.exists(rawdata_dirname)):\n",
    "    os.makedirs(rawdata_dirname)\n",
    "if not (os.path.exists(metadata_dir)):\n",
    "    os.makedirs(metadata_dir)\n",
    "os.chdir(rawdata_dirname)\n",
    "\n",
    "def init_states():\n",
    "    states = ['ak', 'al', 'ar', 'az', 'ca', 'co', 'ct', 'dc']\n",
    "    states += ['de', 'fl', 'ga', 'hi', 'ia', 'id', 'il', 'in']\n",
    "    states += ['ks', 'ky', 'la', 'ma', 'md', 'me', 'mi', 'mn']\n",
    "    states += ['mo', 'ms', 'mt', 'nc', 'nd', 'ne', 'nh', 'nj']\n",
    "    states += ['nm', 'nv', 'ny', 'oh', 'ok', 'or']\n",
    "    states += ['pa', 'pr', 'ri', 'sc', 'sd', 'tn', 'tx']\n",
    "    states += ['ut' ,'va', 'vt', 'wa', 'wi', 'wv', 'wy']\n",
    "    return states\n",
    "\n",
    "print('In directory: '+os.getcwd())"
   ]
  },
  {
   "cell_type": "code",
   "execution_count": null,
   "metadata": {},
   "outputs": [],
   "source": [
    "ftp = FTP('ftp2.census.gov')\n",
    "ftp.login()\n",
    "print(ftp.getwelcome())\n",
    "\n",
    "ftp.cwd('programs-surveys/acs/summary_file/2017/data/5_year_entire_sf/')\n",
    "print(ftp.dir())\n",
    "thefilename = 'Tracts_Block_Groups_Only.tar'\n",
    "with open(thefilename, 'wb') as f:\n",
    "    ftp.retrbinary('RETR {0:}'.format(thefilename), f.write)\n",
    "ftp.quit()\n",
    "print('Done')"
   ]
  },
  {
   "cell_type": "code",
   "execution_count": 6,
   "metadata": {},
   "outputs": [
    {
     "name": "stdout",
     "output_type": "stream",
     "text": [
      "Un-tarring...\n",
      "Un-tarred...\n",
      "Done!\n"
     ]
    }
   ],
   "source": [
    "#print('Reading zipfile...')\n",
    "#thezipfile = zipfile.ZipFile('Tracts_Block_Groups_Only.tar.gz')\n",
    "#print('Extracting files...')\n",
    "#thezipfile.extractall()\n",
    "#thezipfile.close()\n",
    "#print('Done')\n",
    "\n",
    "#print('Un-gzipping...')\n",
    "#filename = 'Tracts_Block_Groups_Only.tar.gz'\n",
    "#tar = tarfile.open(filename, \"r:gz\")\n",
    "#tar.extractall()\n",
    "#tar.close()\n",
    "#print('Un-gzipped...')\n",
    "\n",
    "print('Un-tarring...')\n",
    "filename = 'Tracts_Block_Groups_Only.tar'\n",
    "tar = tarfile.open(filename, \"r:\")\n",
    "tar.extractall()\n",
    "tar.close()\n",
    "print('Un-tarred...')\n",
    "print('Done!')\n",
    "\n"
   ]
  },
  {
   "cell_type": "code",
   "execution_count": 8,
   "metadata": {},
   "outputs": [
    {
     "name": "stdout",
     "output_type": "stream",
     "text": [
      "Extracting zipfile Alabama_Tracts_Block_Groups_Only.zip...\n",
      "Extracting zipfile Alaska_Tracts_Block_Groups_Only.zip...\n",
      "Extracting zipfile Arizona_Tracts_Block_Groups_Only.zip...\n",
      "Extracting zipfile Arkansas_Tracts_Block_Groups_Only.zip...\n",
      "Extracting zipfile California_Tracts_Block_Groups_Only.zip...\n",
      "Extracting zipfile Colorado_Tracts_Block_Groups_Only.zip...\n",
      "Extracting zipfile Connecticut_Tracts_Block_Groups_Only.zip...\n",
      "Extracting zipfile Delaware_Tracts_Block_Groups_Only.zip...\n",
      "Extracting zipfile DistrictOfColumbia_Tracts_Block_Groups_Only.zip...\n",
      "Extracting zipfile Florida_Tracts_Block_Groups_Only.zip...\n",
      "Extracting zipfile Georgia_Tracts_Block_Groups_Only.zip...\n",
      "Extracting zipfile Hawaii_Tracts_Block_Groups_Only.zip...\n",
      "Extracting zipfile Idaho_Tracts_Block_Groups_Only.zip...\n",
      "Extracting zipfile Illinois_Tracts_Block_Groups_Only.zip...\n",
      "Extracting zipfile Indiana_Tracts_Block_Groups_Only.zip...\n",
      "Extracting zipfile Iowa_Tracts_Block_Groups_Only.zip...\n",
      "Extracting zipfile Kansas_Tracts_Block_Groups_Only.zip...\n",
      "Extracting zipfile Kentucky_Tracts_Block_Groups_Only.zip...\n",
      "Extracting zipfile Louisiana_Tracts_Block_Groups_Only.zip...\n",
      "Extracting zipfile Maine_Tracts_Block_Groups_Only.zip...\n",
      "Extracting zipfile Maryland_Tracts_Block_Groups_Only.zip...\n",
      "Extracting zipfile Massachusetts_Tracts_Block_Groups_Only.zip...\n",
      "Extracting zipfile Michigan_Tracts_Block_Groups_Only.zip...\n",
      "Extracting zipfile Minnesota_Tracts_Block_Groups_Only.zip...\n",
      "Extracting zipfile Mississippi_Tracts_Block_Groups_Only.zip...\n",
      "Extracting zipfile Missouri_Tracts_Block_Groups_Only.zip...\n",
      "Extracting zipfile Montana_Tracts_Block_Groups_Only.zip...\n",
      "Extracting zipfile Nebraska_Tracts_Block_Groups_Only.zip...\n",
      "Extracting zipfile Nevada_Tracts_Block_Groups_Only.zip...\n",
      "Extracting zipfile NewHampshire_Tracts_Block_Groups_Only.zip...\n",
      "Extracting zipfile NewJersey_Tracts_Block_Groups_Only.zip...\n",
      "Extracting zipfile NewMexico_Tracts_Block_Groups_Only.zip...\n",
      "Extracting zipfile NewYork_Tracts_Block_Groups_Only.zip...\n",
      "Extracting zipfile NorthCarolina_Tracts_Block_Groups_Only.zip...\n",
      "Extracting zipfile NorthDakota_Tracts_Block_Groups_Only.zip...\n",
      "Extracting zipfile Ohio_Tracts_Block_Groups_Only.zip...\n",
      "Extracting zipfile Oklahoma_Tracts_Block_Groups_Only.zip...\n",
      "Extracting zipfile Oregon_Tracts_Block_Groups_Only.zip...\n",
      "Extracting zipfile Pennsylvania_Tracts_Block_Groups_Only.zip...\n",
      "Extracting zipfile PuertoRico_Tracts_Block_Groups_Only.zip...\n",
      "Extracting zipfile RhodeIsland_Tracts_Block_Groups_Only.zip...\n",
      "Extracting zipfile SouthCarolina_Tracts_Block_Groups_Only.zip...\n",
      "Extracting zipfile SouthDakota_Tracts_Block_Groups_Only.zip...\n",
      "Extracting zipfile Tennessee_Tracts_Block_Groups_Only.zip...\n",
      "Extracting zipfile Texas_Tracts_Block_Groups_Only.zip...\n",
      "Extracting zipfile UnitedStates_Tracts_Block_Groups_Only.zip...\n",
      "Extracting zipfile Utah_Tracts_Block_Groups_Only.zip...\n",
      "Extracting zipfile Vermont_Tracts_Block_Groups_Only.zip...\n",
      "Extracting zipfile Virginia_Tracts_Block_Groups_Only.zip...\n",
      "Extracting zipfile Washington_Tracts_Block_Groups_Only.zip...\n",
      "Extracting zipfile WestVirginia_Tracts_Block_Groups_Only.zip...\n",
      "Extracting zipfile Wisconsin_Tracts_Block_Groups_Only.zip...\n",
      "Extracting zipfile Wyoming_Tracts_Block_Groups_Only.zip...\n",
      "Done\n"
     ]
    }
   ],
   "source": [
    "os.getcwd()\n",
    "filelist = [x for x in os.listdir() if ('.zip' in x)]\n",
    "for thisfile in filelist:\n",
    "    print('Extracting zipfile {0:}...'.format(thisfile))\n",
    "    thezipfile = zipfile.ZipFile(thisfile)\n",
    "    thezipfile.extractall()\n",
    "    thezipfile.close()\n",
    "print('Done')"
   ]
  },
  {
   "cell_type": "code",
   "execution_count": null,
   "metadata": {},
   "outputs": [],
   "source": [
    "filelist = []\n",
    "for x in os.listdir():\n",
    "    if ('.zip' in x):\n",
    "        filelist.append(x)\n",
    "\n",
    "#y = 'Maryland_Tracts_Block_Groups_Only.zip'\n",
    "#filelist.append(y)\n",
    "\n",
    "for y in filelist:\n",
    "    print('Reading zipfile {0:}...'.format(y))\n",
    "    thezipfile = zipfile.ZipFile(y)\n",
    "    thezipfile.extractall()\n",
    "    thezipfile.close()\n",
    "print('Done')"
   ]
  },
  {
   "cell_type": "code",
   "execution_count": null,
   "metadata": {},
   "outputs": [],
   "source": [
    "os.listdir()"
   ]
  },
  {
   "cell_type": "code",
   "execution_count": null,
   "metadata": {},
   "outputs": [],
   "source": [
    "os.chdir(metadata_dir)\n",
    "print('In directory: '+os.getcwd())\n",
    "\n",
    "ftp = FTP('ftp2.census.gov')\n",
    "ftp.login()\n",
    "print(ftp.getwelcome())\n",
    "#print(ftp.dir())\n",
    "ftp.cwd('programs-surveys/acs/summary_file/2017/data/')\n",
    "thefilename = '2017_5yr_Summary_FileTemplates.zip'\n",
    "with open(thefilename, 'wb') as f:\n",
    "    ftp.retrbinary('RETR {0:}'.format(thefilename), f.write)\n",
    "ftp.quit()\n",
    "print('Done')"
   ]
  },
  {
   "cell_type": "code",
   "execution_count": null,
   "metadata": {},
   "outputs": [],
   "source": [
    "os.chdir(metadata_dir)\n",
    "\n",
    "print('Reading zipfile...')\n",
    "thezipfile = zipfile.ZipFile(metadata_dir+'2017_5yr_Summary_FileTemplates.zip')\n",
    "\n",
    "print('Extracting files...')\n",
    "thezipfile.extractall()\n",
    "\n",
    "thezipfile.close()\n",
    "print('Done')"
   ]
  },
  {
   "cell_type": "code",
   "execution_count": null,
   "metadata": {},
   "outputs": [],
   "source": [
    "os.chdir(geodir)\n",
    "states = init_states()\n",
    "\n",
    "ftp = FTP('ftp2.census.gov')\n",
    "ftp.login()\n",
    "print(ftp.getwelcome())\n",
    "\n",
    "ftp.cwd('programs-surveys/acs/summary_file/2017/documentation/geography/5yr_year_geo/')\n",
    "\n",
    "#print(ftp.nlst())\n",
    "for this_state in states:\n",
    "    thefilename = '{0:}.xlsx'.format(this_state)\n",
    "    print('Retrieving {0:}...'.format(thefilename))\n",
    "    with open(thefilename, 'wb') as f:\n",
    "        ftp.retrbinary('RETR {0:}'.format(thefilename), f.write)\n",
    "ftp.quit()\n",
    "\n",
    "print('Done')"
   ]
  },
  {
   "cell_type": "code",
   "execution_count": null,
   "metadata": {},
   "outputs": [],
   "source": []
  }
 ],
 "metadata": {
  "kernelspec": {
   "display_name": "Python 3",
   "language": "python",
   "name": "python3"
  },
  "language_info": {
   "codemirror_mode": {
    "name": "ipython",
    "version": 3
   },
   "file_extension": ".py",
   "mimetype": "text/x-python",
   "name": "python",
   "nbconvert_exporter": "python",
   "pygments_lexer": "ipython3",
   "version": "3.6.6"
  }
 },
 "nbformat": 4,
 "nbformat_minor": 2
}
