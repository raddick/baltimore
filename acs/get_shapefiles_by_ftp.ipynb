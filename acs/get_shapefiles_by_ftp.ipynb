{
 "cells": [
  {
   "cell_type": "code",
   "execution_count": 1,
   "metadata": {},
   "outputs": [
    {
     "name": "stdout",
     "output_type": "stream",
     "text": [
      "In directory: /home/idies/workspace/Temporary/raddick/census_scratch/shapefiles\n"
     ]
    }
   ],
   "source": [
    "from ftplib import FTP\n",
    "import os\n",
    "import zipfile\n",
    "import pandas \n",
    "\n",
    "script_dir = '/home/idies/workspace/Storage/raddick/census/'\n",
    "data_dir = '/home/idies/workspace/Temporary/raddick/census_scratch/'\n",
    "shapefiledir = data_dir + 'shapefiles/'\n",
    "extras_dir = '/home/idies/workspace/Storage/raddick/census/extras/'\n",
    "\n",
    "if not (os.path.exists(shapefiledir)):\n",
    "    os.makedirs(shapefiledir)\n",
    "os.chdir(shapefiledir)\n",
    "print('In directory: '+os.getcwd())"
   ]
  },
  {
   "cell_type": "markdown",
   "metadata": {},
   "source": [
    "# Get state and county shapefiles"
   ]
  },
  {
   "cell_type": "code",
   "execution_count": null,
   "metadata": {},
   "outputs": [],
   "source": [
    "ftp = FTP('ftp2.census.gov')\n",
    "ftp.login()\n",
    "print(ftp.getwelcome())\n",
    "#ftp://ftp2.census.gov/geo/tiger/TIGER2017/COUNTY/tl_2017_us_county.shp\n",
    "ftp.cwd('geo/tiger/TIGER2017/STATE/')\n",
    "#print(ftp.nlst())\n",
    "thefilename = 'tl_2017_us_state.zip'\n",
    "print(thefilename)\n",
    "with open(thefilename, 'wb') as f:\n",
    "    ftp.retrbinary('RETR {0:}'.format(thefilename), f.write)\n",
    "\n",
    "ftp.cwd('../COUNTY/')\n",
    "#print(ftp.nlst())\n",
    "thefilename = 'tl_2017_us_county.zip'\n",
    "print(thefilename)\n",
    "with open(thefilename, 'wb') as f:\n",
    "    ftp.retrbinary('RETR {0:}'.format(thefilename), f.write)\n",
    "\n",
    "ftp.quit()\n",
    "print('Done!')"
   ]
  },
  {
   "cell_type": "markdown",
   "metadata": {},
   "source": [
    "# Unzip state and county shapefiles"
   ]
  },
  {
   "cell_type": "code",
   "execution_count": null,
   "metadata": {},
   "outputs": [],
   "source": [
    "import zipfile\n",
    "\n",
    "print('Reading and extracting state shapes zipfile ...')\n",
    "thezipfile = zipfile.ZipFile(shapefiledir+'tl_2017_us_state.zip')\n",
    "thezipfile.extractall()\n",
    "\n",
    "print('Reading and extracting county shapes zipfile ...')\n",
    "thezipfile = zipfile.ZipFile(shapefiledir+'tl_2017_us_county.zip')\n",
    "thezipfile.extractall()\n",
    "\n",
    "thezipfile.close()\n",
    "print('Done')"
   ]
  },
  {
   "cell_type": "markdown",
   "metadata": {},
   "source": [
    "# Get tract shapes"
   ]
  },
  {
   "cell_type": "code",
   "execution_count": null,
   "metadata": {},
   "outputs": [],
   "source": [
    "os.chdir(shapefiledir+'TRACT/')\n",
    "\n",
    "state_codes_df = pandas.read_csv(script_dir+'extras/statecodes.csv')\n",
    "state_codes_df = state_codes_df[state_codes_df['STUSAB'].apply(lambda x: x not in ['AS', 'GU', 'MP', 'PR', 'UM', 'VI'])]\n",
    "print('found state codes')\n",
    "\n",
    "ftp = FTP('ftp2.census.gov')\n",
    "ftp.login()\n",
    "print(ftp.getwelcome())\n",
    "#ftp://ftp2.census.gov/geo/tiger/TIGER2017/COUNTY/tl_2017_us_county.shp\n",
    "ftp.cwd('geo/tiger/TIGER2017/TRACT/')\n",
    "for this_state in state_codes_df['STATE'].values:\n",
    "    thefilename = 'tl_2017_{:02d}_tract.zip'.format(this_state)\n",
    "    with open(thefilename, 'wb') as f:\n",
    "        ftp.retrbinary('RETR {0:}'.format(thefilename), f.write)\n",
    "ftp.quit()\n",
    "print('Done!')"
   ]
  },
  {
   "cell_type": "markdown",
   "metadata": {},
   "source": [
    "# And also for block groups"
   ]
  },
  {
   "cell_type": "code",
   "execution_count": null,
   "metadata": {},
   "outputs": [],
   "source": [
    "os.chdir(shapefiledir+'BG/')\n",
    "\n",
    "state_codes_df = pandas.read_csv(script_dir+'extras/statecodes.csv')\n",
    "state_codes_df = state_codes_df[state_codes_df['STUSAB'].apply(lambda x: x not in ['AS', 'GU', 'MP', 'PR', 'UM', 'VI'])]\n",
    "print('found state codes')\n",
    "\n",
    "ftp = FTP('ftp2.census.gov')\n",
    "ftp.login()\n",
    "print(ftp.getwelcome())\n",
    "#ftp://ftp2.census.gov/geo/tiger/TIGER2017/COUNTY/tl_2017_us_county.shp\n",
    "ftp.cwd('geo/tiger/TIGER2017/BG/')\n",
    "for this_state in state_codes_df['STATE'].values:\n",
    "    thefilename = 'tl_2017_{:02d}_bg.zip'.format(this_state)\n",
    "    with open(thefilename, 'wb') as f:\n",
    "        ftp.retrbinary('RETR {0:}'.format(thefilename), f.write)\n",
    "ftp.quit()\n",
    "print('Done!')"
   ]
  },
  {
   "cell_type": "markdown",
   "metadata": {},
   "source": [
    "# And also for places"
   ]
  },
  {
   "cell_type": "code",
   "execution_count": null,
   "metadata": {
    "scrolled": false
   },
   "outputs": [],
   "source": [
    "os.chdir(shapefiledir+'PLACE/')\n",
    "\n",
    "state_codes_df = pandas.read_csv(extras_dir+'statecodes.csv')\n",
    "state_codes_df = state_codes_df.set_index('STUSAB')\n",
    "state_codes_df = state_codes_df.reset_index()\n",
    "state_codes_df = state_codes_df[state_codes_df['STUSAB'].apply(lambda x: x not in ('AS', 'GU', 'MP', 'PR', 'UM', 'VI'))]\n",
    "\n",
    "ftp = FTP('ftp2.census.gov')\n",
    "ftp.login()\n",
    "print(ftp.getwelcome())\n",
    "#ftp://ftp2.census.gov/geo/tiger/TIGER2017/COUNTY/tl_2017_us_county.shp\n",
    "ftp.cwd('geo/tiger/TIGER2017/PLACE/')\n",
    "for this_state in state_codes_df['STATE'].values:\n",
    "    thefilename = 'tl_2017_{:02d}_place.zip'.format(this_state)\n",
    "    print('retrieving {0:}...'.format(thefilename))\n",
    "    with open(thefilename, 'wb') as f:\n",
    "        ftp.retrbinary('RETR {0:}'.format(thefilename), f.write)\n",
    "ftp.quit()\n",
    "print('Done!')\n",
    "\n"
   ]
  },
  {
   "cell_type": "code",
   "execution_count": null,
   "metadata": {},
   "outputs": [],
   "source": [
    "thezipfiles = [x for x in os.listdir() if '.zip' in x]\n",
    "\n",
    "for thisfile in thezipfiles:\n",
    "    print('Extracting zipfile {0:}...'.format(thisfile))\n",
    "    thezipfile = zipfile.ZipFile(thisfile)\n",
    "    thezipfile.extractall()\n",
    "    thezipfile.close()\n",
    "print('Done')"
   ]
  },
  {
   "cell_type": "markdown",
   "metadata": {},
   "source": [
    "# Get coastlines"
   ]
  },
  {
   "cell_type": "code",
   "execution_count": 2,
   "metadata": {},
   "outputs": [
    {
     "name": "stdout",
     "output_type": "stream",
     "text": [
      "220-    **WARNING**WARNING**WARNING**WARNING**WARNING****WARNING**WARNING**\n",
      "220-\n",
      "220-    This is a Census Bureau computer system. Census Bureau computer \n",
      "220-    systems are provided for the processing of official U.S. Government \n",
      "220-    information only. All data contained within Census Bureau computer \n",
      "220-    systems is owned by the Census Bureau, and may be monitored,intercepted, recorded, read, \n",
      "220-    copied, or captured in any manner and disclosed in any manner, by \n",
      "220-    authorized personnel. THERE IS NO RIGHT OF PRIVACY IN THIS SYSTEM. \n",
      "220-    System personnel may disclose any potential evidence of crime found \n",
      "220-    on Census Bureau computer systems to appropriate authorities. USE OF \n",
      "220-    THIS SYSTEM BY ANY USER, AUTHORIZED OR UNAUTHORIZED, CONSTITUTES \n",
      "220-    CONSENT TO THIS MONITORING, INTERCEPTION RECORDING, READING, COPYING, \n",
      "220-    CAPTURING, and DISCLOSURE OF COMPUTER ACTIVITY. Use of this computer \n",
      "220-    without authorization or for unauthorized purposes is a violation of \n",
      "220-    federal law and punishable by fines or imprisonment (Public Law 99-474).\n",
      "220-\n",
      "220-    **WARNING**WARNING**WARNING**WARNING**WARNING****WARNING**WARNING**\n",
      "220 \n",
      "tl_2017_us_coastline.zip\n",
      "Extracting zipfile tl_2017_us_coastline.zip...\n",
      "Done!\n"
     ]
    }
   ],
   "source": [
    "os.chdir(extras_dir)\n",
    "ftp = FTP('ftp2.census.gov')\n",
    "ftp.login()\n",
    "print(ftp.getwelcome())\n",
    "ftp.cwd('geo/tiger/TIGER2017/COASTLINE/')\n",
    "#print(ftp.nlst())\n",
    "thefilename = 'tl_2017_us_coastline.zip'\n",
    "print(thefilename)\n",
    "with open(thefilename, 'wb') as f:\n",
    "    ftp.retrbinary('RETR {0:}'.format(thefilename), f.write)\n",
    "ftp.quit()\n",
    "\n",
    "print('Extracting zipfile {0:}...'.format(thefilename))\n",
    "thezipfile = zipfile.ZipFile(thefilename)\n",
    "thezipfile.extractall()\n",
    "thezipfile.close()\n",
    "print('Done!')"
   ]
  },
  {
   "cell_type": "code",
   "execution_count": null,
   "metadata": {},
   "outputs": [],
   "source": []
  }
 ],
 "metadata": {
  "kernelspec": {
   "display_name": "Python 3",
   "language": "python",
   "name": "python3"
  },
  "language_info": {
   "codemirror_mode": {
    "name": "ipython",
    "version": 3
   },
   "file_extension": ".py",
   "mimetype": "text/x-python",
   "name": "python",
   "nbconvert_exporter": "python",
   "pygments_lexer": "ipython3",
   "version": "3.6.6"
  }
 },
 "nbformat": 4,
 "nbformat_minor": 2
}
