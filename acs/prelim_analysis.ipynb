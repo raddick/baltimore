{
 "cells": [
  {
   "cell_type": "code",
   "execution_count": null,
   "metadata": {
    "collapsed": true,
    "deletable": true,
    "editable": true
   },
   "outputs": [],
   "source": [
    "!pip install --upgrade pip\n",
    "!pip install numpy\n",
    "!pip install pandas\n",
    "!pip install xlrd"
   ]
  },
  {
   "cell_type": "code",
   "execution_count": 1,
   "metadata": {
    "collapsed": false,
    "deletable": true,
    "editable": true
   },
   "outputs": [
    {
     "name": "stdout",
     "output_type": "stream",
     "text": [
      "Read metadata...\n",
      "Read geography...\n",
      "Read data (estimates)...\n",
      "Read margins of error...\n",
      "Done\n"
     ]
    }
   ],
   "source": [
    "import numpy as np\n",
    "import pandas\n",
    "pandas.set_option('display.max_colwidth', -1)\n",
    "\n",
    "metadata_df = pandas.read_csv('/home/idies/workspace/raddick_acs_data/variables_clara.csv', low_memory=False, index_col=0)\n",
    "geo_metadata_df = pandas.read_csv('/home/idies/workspace/raddick_acs_data/geo_variables_acs2016_clara.csv', low_memory=False, index_col=0)\n",
    "print('Read metadata...')\n",
    "\n",
    "geo_df = pandas.read_csv('/home/idies/workspace/raddick_acs_data/geo_acs2016_clara.csv', low_memory=False, index_col=0)\n",
    "print('Read geography...')\n",
    "\n",
    "data_df = pandas.read_csv('/home/idies/workspace/raddick_acs_data/data_acs2016_clara.csv', low_memory=False, index_col=0)\n",
    "print('Read data (estimates)...')\n",
    "\n",
    "error_df = pandas.read_csv('/home/idies/workspace/raddick_acs_data/error_acs2016_clara.csv', low_memory=False, index_col=0)\n",
    "print('Read margins of error...')\n",
    "\n",
    "print('Done')"
   ]
  },
  {
   "cell_type": "code",
   "execution_count": 7,
   "metadata": {
    "collapsed": false,
    "deletable": true,
    "editable": true,
    "scrolled": false
   },
   "outputs": [
    {
     "data": {
      "text/html": [
       "<div>\n",
       "<table border=\"1\" class=\"dataframe\">\n",
       "  <thead>\n",
       "    <tr style=\"text-align: right;\">\n",
       "      <th></th>\n",
       "      <th>variable</th>\n",
       "      <th>description</th>\n",
       "      <th>sequence_number</th>\n",
       "    </tr>\n",
       "  </thead>\n",
       "  <tbody>\n",
       "    <tr>\n",
       "      <th>B01001_003</th>\n",
       "      <td>B01001_003</td>\n",
       "      <td>SEX BY AGE for Total Population% Male:% Under 5 years</td>\n",
       "      <td>2</td>\n",
       "    </tr>\n",
       "    <tr>\n",
       "      <th>B01001_027</th>\n",
       "      <td>B01001_027</td>\n",
       "      <td>SEX BY AGE for Total Population% Female:% Under 5 years</td>\n",
       "      <td>2</td>\n",
       "    </tr>\n",
       "  </tbody>\n",
       "</table>\n",
       "</div>"
      ],
      "text/plain": [
       "              variable  \\\n",
       "B01001_003  B01001_003   \n",
       "B01001_027  B01001_027   \n",
       "\n",
       "                                                        description  \\\n",
       "B01001_003  SEX BY AGE for Total Population% Male:% Under 5 years     \n",
       "B01001_027  SEX BY AGE for Total Population% Female:% Under 5 years   \n",
       "\n",
       "            sequence_number  \n",
       "B01001_003  2                \n",
       "B01001_027  2                "
      ]
     },
     "execution_count": 7,
     "metadata": {},
     "output_type": "execute_result"
    }
   ],
   "source": [
    "#metadata_df\n",
    "#metadata_df[metadata_df['sequence_number'] == 150]\n",
    "#metadata_df\n",
    "#B26001_001\n",
    "#GROUP QUARTERS POPULATION for Population In Group Quarters% Total\n",
    "\n",
    "#string1 = 'Baltimore'\n",
    "#string2 = ''\n",
    "#string3 = ''\n",
    "\n",
    "#geovarlist = metadata_df['variable'][metadata_df['description'].apply(lambda x: (string1 in x) & (string2 in x) & (string3 in x))].values.tolist()\n",
    "#geo_df[geo_df['NAME'].apply(lambda x: (string1 in x))]\n",
    "\n",
    "#print('{0:}'.format(geo_df['NAME'].loc['05000US24510']))\n",
    "#print('{0:} {1:,.0f}'.format(metadata_df['description'].loc['B26001_001'], data_df['B26001_001'].loc['05000US24510']))\n",
    "\n",
    "#data_df['B26001_001'].loc['05000US24510']\n",
    "#data_df      \n",
    "#05000US24510\n",
    "#data_df['B26001_001'].sample(1)\n",
    "\n",
    "geolist = geo_df['GEOID'].sample(3).values.tolist()\n",
    "#geolist.append('afwwfe')\n",
    "    \n",
    "thelist = ['B01001_001', 'B26001_001']\n",
    "#thelist.append('xxx')\n",
    "#thelist  = []\n",
    "ourdata_df = get_data(data_df, thelist, geolist)\n",
    "#ourdata_df\n",
    "\n",
    "phrases = []\n",
    "phrases.append('Total Population')\n",
    "phrases.append('AGE')\n",
    "phrases.append('Under 5')\n",
    "#phrases.append('Male')\n",
    "\n",
    "thesevars = find_variables4(metadata_df, phrases)\n",
    "#find_variables(metadata_df, phrases)\n",
    "metadata_df[metadata_df['variable'].apply(lambda x: x in thesevars)]\n",
    "#print(thesevars)"
   ]
  },
  {
   "cell_type": "code",
   "execution_count": 2,
   "metadata": {
    "collapsed": false,
    "deletable": true,
    "editable": true
   },
   "outputs": [
    {
     "name": "stdout",
     "output_type": "stream",
     "text": [
      "Done\n"
     ]
    }
   ],
   "source": [
    "def find_variables4(mdf, tofindlist):\n",
    "    # NEED TO REWRITE TO USE REGEX INSTEAD, because now only \"Male\" returns men; \"male\" returns women b/c feMALE\n",
    "    varlist = []\n",
    "    if (len(tofindlist) == 0):\n",
    "        print('CAUTION: No search phrases specified, returning every variable!')\n",
    "    if (len(tofindlist) > 4):\n",
    "        print('ERROR: list contains more than four search phrases, searching for only the first three')\n",
    "    try:\n",
    "        string1 = tofindlist[0]\n",
    "    except IndexError:\n",
    "        string1 = ''\n",
    "    try:\n",
    "        string2 = tofindlist[1]\n",
    "    except IndexError:\n",
    "        string2 = ''\n",
    "    try:\n",
    "        string3 = tofindlist[2]\n",
    "    except IndexError:\n",
    "        string3 = ''\n",
    "    try:\n",
    "        string4 = tofindlist[3]\n",
    "    except IndexError:\n",
    "        string4 = ''\n",
    "            \n",
    "    varlist = mdf['variable'][mdf['description'].apply(lambda x: (string1 in x) & (string2 in x) & (string3 in x) & (string4 in x))].values.tolist()\n",
    "    return varlist\n",
    "\n",
    "def get_data(df, varlist, geolist):\n",
    "    y_df = get_geography(df, geolist)\n",
    "    rdf = get_columns(y_df, varlist)\n",
    "    return rdf\n",
    "\n",
    "def get_columns(df, varlist):\n",
    "    if (len(varlist) == 0):\n",
    "        print('CAUTION: No variables specified')\n",
    "    rdf = pandas.DataFrame()\n",
    "    if (len(df) > 0):\n",
    "        vars_that_exist = ['GEOID']\n",
    "        for thisvar in varlist:\n",
    "            if (thisvar in df.columns):\n",
    "                vars_that_exist.append(thisvar)\n",
    "            else:\n",
    "                print('Variable {0:} not found. Skipping.'.format(thisvar))\n",
    "\n",
    "        rdf = df[vars_that_exist]\n",
    "        rdf.index.name = ''\n",
    "    else:\n",
    "        print('CAUTION: No geopgraphies specified')\n",
    "    return rdf\n",
    "\n",
    "def get_geography(df, geolist):\n",
    "    rdf = pandas.DataFrame()\n",
    "    if (len(df) > 0):\n",
    "        for thisgeo in geolist:\n",
    "            try:\n",
    "                rdf = rdf.append(df.loc[thisgeo])\n",
    "            except:\n",
    "                print('Geography {0:} not found. Skipping.'.format(thisgeo))\n",
    "    else:\n",
    "        print('No variables specified')\n",
    "    return rdf\n",
    "    \n",
    "print('Done')\n",
    "#print('Done')\n",
    "\n",
    "#varlist = []\n",
    "#string1 = 'Total Population'\n",
    "#string2 = 'AGE'\n",
    "#string3 = 'Under 5'\n",
    "\n",
    "#string1 = 'TRAVEL TIME\n",
    "#string2 = '10 to 14 Minutes\n",
    "#string3 = 'bus'\n",
    "#string1 = 'MALE'\n",
    "#string2 = ' '\n",
    "#string3 = ' '\n",
    "#string2 = 'all'\n",
    "#string3 = ''\n",
    "\n",
    "#varlist = metadata_df['variable'][metadata_df['description'].apply(lambda x: (string1 in x) & (string2 in x) & (string3 in x))].values.tolist()\n",
    "\n",
    "\n",
    "#for thisvar in varlist:\n",
    "#    print(thisvar)\n",
    "#    print(metadata_df['description'].loc[thisvar])\n",
    "#    print('\\n')\n",
    "#data_df\n",
    "#data_df['B01001_002'].head(2)\n"
   ]
  },
  {
   "cell_type": "code",
   "execution_count": null,
   "metadata": {
    "collapsed": true,
    "deletable": true,
    "editable": true
   },
   "outputs": [],
   "source": []
  }
 ],
 "metadata": {
  "kernelspec": {
   "display_name": "Python 3",
   "language": "python",
   "name": "python3"
  },
  "language_info": {
   "codemirror_mode": {
    "name": "ipython",
    "version": 3
   },
   "file_extension": ".py",
   "mimetype": "text/x-python",
   "name": "python",
   "nbconvert_exporter": "python",
   "pygments_lexer": "ipython3",
   "version": "3.5.3"
  }
 },
 "nbformat": 4,
 "nbformat_minor": 2
}
