{
 "cells": [
  {
   "cell_type": "code",
   "execution_count": 1,
   "metadata": {
    "collapsed": false
   },
   "outputs": [
    {
     "name": "stdout",
     "output_type": "stream",
     "text": [
      "In directory: /home/idies/workspace/persistent/censusdata/geography/COUNTY\n"
     ]
    }
   ],
   "source": [
    "from ftplib import FTP\n",
    "import os\n",
    "\n",
    "local_dir = '/home/idies/workspace/persistent/censusdata/'\n",
    "tiger_dir = local_dir + 'geography/COUNTY/'\n",
    "\n",
    "if not (os.getcwd() == local_dir):\n",
    "    os.chdir(local_dir)\n",
    "if not (os.path.exists(tiger_dir)):\n",
    "    os.makedirs(tiger_dir)\n",
    "os.chdir(tiger_dir)\n",
    "print('In directory: '+os.getcwd())"
   ]
  },
  {
   "cell_type": "code",
   "execution_count": null,
   "metadata": {
    "collapsed": false
   },
   "outputs": [],
   "source": [
    "#ftp = FTP('ftp2.census.gov')\n",
    "#ftp.login()\n",
    "#print(ftp.getwelcome())\n",
    "##print(ftp.dir())\n",
    "#ftp.cwd('geo/tiger/TIGER2016/')\n",
    "#directories = []\n",
    "#for filename in ftp.nlst():\n",
    "#    if ('.' not in filename):\n",
    "#        directories.append(filename)\n",
    "#ftp.quit()\n",
    "#print('Directories identified...')\n",
    "#\n",
    "#for dirname in directories:\n",
    "#    if not (os.path.exists(dirname)):    \n",
    "#        os.mkdir(dirname)\n",
    "#        os.chdir(dirname)\n",
    "#print('New local directories created...')\n",
    "\n",
    "#print('Done')"
   ]
  },
  {
   "cell_type": "code",
   "execution_count": 2,
   "metadata": {
    "collapsed": false
   },
   "outputs": [
    {
     "name": "stdout",
     "output_type": "stream",
     "text": [
      "220-    **WARNING**WARNING**WARNING**WARNING**WARNING****WARNING**WARNING**\n",
      "220-\n",
      "220-    This is a Census Bureau computer system. Census Bureau computer \n",
      "220-    systems are provided for the processing of official U.S. Government \n",
      "220-    information only. All data contained within Census Bureau computer \n",
      "220-    systems is owned by the Census Bureau, and may be monitored,intercepted, recorded, read, \n",
      "220-    copied, or captured in any manner and disclosed in any manner, by \n",
      "220-    authorized personnel. THERE IS NO RIGHT OF PRIVACY IN THIS SYSTEM. \n",
      "220-    System personnel may disclose any potential evidence of crime found \n",
      "220-    on Census Bureau computer systems to appropriate authorities. USE OF \n",
      "220-    THIS SYSTEM BY ANY USER, AUTHORIZED OR UNAUTHORIZED, CONSTITUTES \n",
      "220-    CONSENT TO THIS MONITORING, INTERCEPTION RECORDING, READING, COPYING, \n",
      "220-    CAPTURING, and DISCLOSURE OF COMPUTER ACTIVITY. Use of this computer \n",
      "220-    without authorization or for unauthorized purposes is a violation of \n",
      "220-    federal law and punishable by fines or imprisonment (Public Law 99-474).\n",
      "220-\n",
      "220-    **WARNING**WARNING**WARNING**WARNING**WARNING****WARNING**WARNING**\n",
      "220 \n",
      "['tl_2016_us_county.zip']\n",
      "tl_2016_us_county.zip\n",
      "ok\n"
     ]
    }
   ],
   "source": [
    "ftp = FTP('ftp2.census.gov')\n",
    "ftp.login()\n",
    "print(ftp.getwelcome())\n",
    "#ftp://ftp2.census.gov/geo/tiger/TIGER2016/COUNTY/tl_2016_us_county.shp\n",
    "ftp.cwd('geo/tiger/TIGER2016/COUNTY/')\n",
    "print(ftp.nlst())\n",
    "thefilename = 'tl_2016_us_county.zip'\n",
    "print(thefilename)\n",
    "with open(thefilename, 'wb') as f:\n",
    "    ftp.retrbinary('RETR {0:}'.format(thefilename), f.write)\n",
    "ftp.quit()\n",
    "print('ok')"
   ]
  },
  {
   "cell_type": "code",
   "execution_count": 3,
   "metadata": {
    "collapsed": false,
    "deletable": true,
    "editable": true
   },
   "outputs": [
    {
     "name": "stdout",
     "output_type": "stream",
     "text": [
      "Reading zipfile...\n",
      "Extracting files...\n",
      "Done\n"
     ]
    }
   ],
   "source": [
    "import zipfile\n",
    "\n",
    "print('Reading zipfile...')\n",
    "thezipfile = zipfile.ZipFile('tl_2016_us_county.zip')\n",
    "\n",
    "print('Extracting files...')\n",
    "thezipfile.extractall()\n",
    "\n",
    "thezipfile.close()\n",
    "print('Done')"
   ]
  },
  {
   "cell_type": "code",
   "execution_count": null,
   "metadata": {
    "collapsed": false
   },
   "outputs": [],
   "source": [
    "os.getcwd()"
   ]
  },
  {
   "cell_type": "code",
   "execution_count": null,
   "metadata": {
    "collapsed": false
   },
   "outputs": [],
   "source": [
    "os.listdir()"
   ]
  },
  {
   "cell_type": "code",
   "execution_count": null,
   "metadata": {
    "collapsed": false
   },
   "outputs": [],
   "source": [
    "from ftplib import FTP\n",
    "import os\n",
    "\n",
    "local_dir = '/home/idies/workspace/persistent/censusdata/'\n",
    "metadata_dir = local_dir + 'metadata/'\n",
    "\n",
    "if not (os.getcwd() == local_dir):\n",
    "    os.chdir(local_dir)\n",
    "if not (os.path.exists(metadata_dir)):\n",
    "    os.makedirs(metadata_dir)\n",
    "os.chdir(metadata_dir)\n",
    "print('In directory: '+os.getcwd())\n",
    "\n",
    "ftp = FTP('ftp2.census.gov')\n",
    "ftp.login()\n",
    "print(ftp.getwelcome())\n",
    "#print(ftp.dir())\n",
    "ftp.cwd('programs-surveys/acs/summary_file/2016/data/')\n",
    "thefilename = '2016_1yr_Summary_FileTemplates.zip'\n",
    "with open(thefilename, 'wb') as f:\n",
    "    ftp.retrbinary('RETR {0:}'.format(thefilename), f.write)\n",
    "ftp.quit()\n",
    "print('Done')"
   ]
  },
  {
   "cell_type": "code",
   "execution_count": null,
   "metadata": {
    "collapsed": false
   },
   "outputs": [],
   "source": [
    "import zipfile\n",
    "print('Reading zipfile...')\n",
    "thezipfile = zipfile.ZipFile(metadata_dir+'2016_1yr_Summary_FileTemplates.zip')\n",
    "\n",
    "print('Extracting files...')\n",
    "thezipfile.extractall()\n",
    "\n",
    "thezipfile.close()\n",
    "print('Done')"
   ]
  },
  {
   "cell_type": "code",
   "execution_count": null,
   "metadata": {
    "collapsed": false
   },
   "outputs": [],
   "source": [
    "#from ftplib import FTP\n",
    "#import os\n",
    "\n",
    "#local_dir = '/home/idies/workspace/persistent/censusdata/'\n",
    "#geo_dir = local_dir + 'geography/'\n",
    "\n",
    "#if not (os.getcwd() == local_dir):\n",
    "#    os.chdir(local_dir)\n",
    "#if not (os.path.exists(geo_dir)):\n",
    "#    os.makedirs(geo_dir)\n",
    "#os.chdir(geo_dir)\n",
    "#print('In directory: '+os.getcwd())\n",
    "\n",
    "#ftp = FTP('ftp2.census.gov')\n",
    "#ftp.login()\n",
    "#print(ftp.getwelcome())\n",
    "##print(ftp.dir())\n",
    "#ftp.cwd('programs-surveys/acs/summary_file/2016/documentation/geography/')\n",
    "#thefilename = '1_year_Mini_Geo.xlsx'\n",
    "#with open(thefilename, 'wb') as f:\n",
    "#    ftp.retrbinary('RETR {0:}'.format(thefilename), f.write)\n",
    "#ftp.quit()\n",
    "#print('Done')"
   ]
  },
  {
   "cell_type": "code",
   "execution_count": null,
   "metadata": {
    "collapsed": true
   },
   "outputs": [],
   "source": []
  }
 ],
 "metadata": {
  "kernelspec": {
   "display_name": "Python 3",
   "language": "python",
   "name": "python3"
  },
  "language_info": {
   "codemirror_mode": {
    "name": "ipython",
    "version": 3
   },
   "file_extension": ".py",
   "mimetype": "text/x-python",
   "name": "python",
   "nbconvert_exporter": "python",
   "pygments_lexer": "ipython3",
   "version": "3.5.3"
  }
 },
 "nbformat": 4,
 "nbformat_minor": 2
}
