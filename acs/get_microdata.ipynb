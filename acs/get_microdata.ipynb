{
 "cells": [
  {
   "cell_type": "code",
   "execution_count": 1,
   "metadata": {
    "collapsed": false,
    "deletable": true,
    "editable": true,
    "scrolled": true
   },
   "outputs": [
    {
     "name": "stdout",
     "output_type": "stream",
     "text": [
      "In directory: /home/idies/workspace/raddick_acs_data/microdata\n",
      "Writing zipfiles...\n"
     ]
    },
    {
     "ename": "HTTPError",
     "evalue": "HTTP Error 403: Forbidden",
     "output_type": "error",
     "traceback": [
      "\u001b[0;31m\u001b[0m",
      "\u001b[0;31mHTTPError\u001b[0mTraceback (most recent call last)",
      "\u001b[0;32m<ipython-input-1-b6261c68514a>\u001b[0m in \u001b[0;36m<module>\u001b[0;34m()\u001b[0m\n\u001b[1;32m     35\u001b[0m     \u001b[0mlocalfilename\u001b[0m \u001b[0;34m=\u001b[0m \u001b[0mdata_dir\u001b[0m \u001b[0;34m+\u001b[0m \u001b[0mfilename\u001b[0m\u001b[0;34m\u001b[0m\u001b[0m\n\u001b[1;32m     36\u001b[0m \u001b[0;31m#    print('Reading {0:}'.format(remotefilename))\u001b[0m\u001b[0;34m\u001b[0m\u001b[0;34m\u001b[0m\u001b[0m\n\u001b[0;32m---> 37\u001b[0;31m     \u001b[0mresponse\u001b[0m \u001b[0;34m=\u001b[0m \u001b[0murllib\u001b[0m\u001b[0;34m.\u001b[0m\u001b[0mrequest\u001b[0m\u001b[0;34m.\u001b[0m\u001b[0murlopen\u001b[0m\u001b[0;34m(\u001b[0m\u001b[0mremotefilename\u001b[0m\u001b[0;34m)\u001b[0m\u001b[0;34m\u001b[0m\u001b[0m\n\u001b[0m\u001b[1;32m     38\u001b[0m     \u001b[0mdownloadedfile\u001b[0m \u001b[0;34m=\u001b[0m \u001b[0mresponse\u001b[0m\u001b[0;34m.\u001b[0m\u001b[0mread\u001b[0m\u001b[0;34m(\u001b[0m\u001b[0;34m)\u001b[0m\u001b[0;34m\u001b[0m\u001b[0m\n\u001b[1;32m     39\u001b[0m     \u001b[0;32mif\u001b[0m \u001b[0;34m(\u001b[0m\u001b[0monestate\u001b[0m \u001b[0;32min\u001b[0m \u001b[0;34m(\u001b[0m\u001b[0;34m'ak'\u001b[0m\u001b[0;34m,\u001b[0m \u001b[0;34m'fl'\u001b[0m\u001b[0;34m,\u001b[0m \u001b[0;34m'oh'\u001b[0m\u001b[0;34m,\u001b[0m \u001b[0;34m'tx'\u001b[0m\u001b[0;34m,\u001b[0m \u001b[0;34m'us'\u001b[0m\u001b[0;34m,\u001b[0m \u001b[0;34m'wy'\u001b[0m\u001b[0;34m)\u001b[0m\u001b[0;34m)\u001b[0m\u001b[0;34m:\u001b[0m\u001b[0;34m\u001b[0m\u001b[0m\n",
      "\u001b[0;32m/home/idies/anaconda3/lib/python3.5/urllib/request.py\u001b[0m in \u001b[0;36murlopen\u001b[0;34m(url, data, timeout, cafile, capath, cadefault, context)\u001b[0m\n\u001b[1;32m    161\u001b[0m     \u001b[0;32melse\u001b[0m\u001b[0;34m:\u001b[0m\u001b[0;34m\u001b[0m\u001b[0m\n\u001b[1;32m    162\u001b[0m         \u001b[0mopener\u001b[0m \u001b[0;34m=\u001b[0m \u001b[0m_opener\u001b[0m\u001b[0;34m\u001b[0m\u001b[0m\n\u001b[0;32m--> 163\u001b[0;31m     \u001b[0;32mreturn\u001b[0m \u001b[0mopener\u001b[0m\u001b[0;34m.\u001b[0m\u001b[0mopen\u001b[0m\u001b[0;34m(\u001b[0m\u001b[0murl\u001b[0m\u001b[0;34m,\u001b[0m \u001b[0mdata\u001b[0m\u001b[0;34m,\u001b[0m \u001b[0mtimeout\u001b[0m\u001b[0;34m)\u001b[0m\u001b[0;34m\u001b[0m\u001b[0m\n\u001b[0m\u001b[1;32m    164\u001b[0m \u001b[0;34m\u001b[0m\u001b[0m\n\u001b[1;32m    165\u001b[0m \u001b[0;32mdef\u001b[0m \u001b[0minstall_opener\u001b[0m\u001b[0;34m(\u001b[0m\u001b[0mopener\u001b[0m\u001b[0;34m)\u001b[0m\u001b[0;34m:\u001b[0m\u001b[0;34m\u001b[0m\u001b[0m\n",
      "\u001b[0;32m/home/idies/anaconda3/lib/python3.5/urllib/request.py\u001b[0m in \u001b[0;36mopen\u001b[0;34m(self, fullurl, data, timeout)\u001b[0m\n\u001b[1;32m    470\u001b[0m         \u001b[0;32mfor\u001b[0m \u001b[0mprocessor\u001b[0m \u001b[0;32min\u001b[0m \u001b[0mself\u001b[0m\u001b[0;34m.\u001b[0m\u001b[0mprocess_response\u001b[0m\u001b[0;34m.\u001b[0m\u001b[0mget\u001b[0m\u001b[0;34m(\u001b[0m\u001b[0mprotocol\u001b[0m\u001b[0;34m,\u001b[0m \u001b[0;34m[\u001b[0m\u001b[0;34m]\u001b[0m\u001b[0;34m)\u001b[0m\u001b[0;34m:\u001b[0m\u001b[0;34m\u001b[0m\u001b[0m\n\u001b[1;32m    471\u001b[0m             \u001b[0mmeth\u001b[0m \u001b[0;34m=\u001b[0m \u001b[0mgetattr\u001b[0m\u001b[0;34m(\u001b[0m\u001b[0mprocessor\u001b[0m\u001b[0;34m,\u001b[0m \u001b[0mmeth_name\u001b[0m\u001b[0;34m)\u001b[0m\u001b[0;34m\u001b[0m\u001b[0m\n\u001b[0;32m--> 472\u001b[0;31m             \u001b[0mresponse\u001b[0m \u001b[0;34m=\u001b[0m \u001b[0mmeth\u001b[0m\u001b[0;34m(\u001b[0m\u001b[0mreq\u001b[0m\u001b[0;34m,\u001b[0m \u001b[0mresponse\u001b[0m\u001b[0;34m)\u001b[0m\u001b[0;34m\u001b[0m\u001b[0m\n\u001b[0m\u001b[1;32m    473\u001b[0m \u001b[0;34m\u001b[0m\u001b[0m\n\u001b[1;32m    474\u001b[0m         \u001b[0;32mreturn\u001b[0m \u001b[0mresponse\u001b[0m\u001b[0;34m\u001b[0m\u001b[0m\n",
      "\u001b[0;32m/home/idies/anaconda3/lib/python3.5/urllib/request.py\u001b[0m in \u001b[0;36mhttp_response\u001b[0;34m(self, request, response)\u001b[0m\n\u001b[1;32m    580\u001b[0m         \u001b[0;32mif\u001b[0m \u001b[0;32mnot\u001b[0m \u001b[0;34m(\u001b[0m\u001b[0;36m200\u001b[0m \u001b[0;34m<=\u001b[0m \u001b[0mcode\u001b[0m \u001b[0;34m<\u001b[0m \u001b[0;36m300\u001b[0m\u001b[0;34m)\u001b[0m\u001b[0;34m:\u001b[0m\u001b[0;34m\u001b[0m\u001b[0m\n\u001b[1;32m    581\u001b[0m             response = self.parent.error(\n\u001b[0;32m--> 582\u001b[0;31m                 'http', request, response, code, msg, hdrs)\n\u001b[0m\u001b[1;32m    583\u001b[0m \u001b[0;34m\u001b[0m\u001b[0m\n\u001b[1;32m    584\u001b[0m         \u001b[0;32mreturn\u001b[0m \u001b[0mresponse\u001b[0m\u001b[0;34m\u001b[0m\u001b[0m\n",
      "\u001b[0;32m/home/idies/anaconda3/lib/python3.5/urllib/request.py\u001b[0m in \u001b[0;36merror\u001b[0;34m(self, proto, *args)\u001b[0m\n\u001b[1;32m    508\u001b[0m         \u001b[0;32mif\u001b[0m \u001b[0mhttp_err\u001b[0m\u001b[0;34m:\u001b[0m\u001b[0;34m\u001b[0m\u001b[0m\n\u001b[1;32m    509\u001b[0m             \u001b[0margs\u001b[0m \u001b[0;34m=\u001b[0m \u001b[0;34m(\u001b[0m\u001b[0mdict\u001b[0m\u001b[0;34m,\u001b[0m \u001b[0;34m'default'\u001b[0m\u001b[0;34m,\u001b[0m \u001b[0;34m'http_error_default'\u001b[0m\u001b[0;34m)\u001b[0m \u001b[0;34m+\u001b[0m \u001b[0morig_args\u001b[0m\u001b[0;34m\u001b[0m\u001b[0m\n\u001b[0;32m--> 510\u001b[0;31m             \u001b[0;32mreturn\u001b[0m \u001b[0mself\u001b[0m\u001b[0;34m.\u001b[0m\u001b[0m_call_chain\u001b[0m\u001b[0;34m(\u001b[0m\u001b[0;34m*\u001b[0m\u001b[0margs\u001b[0m\u001b[0;34m)\u001b[0m\u001b[0;34m\u001b[0m\u001b[0m\n\u001b[0m\u001b[1;32m    511\u001b[0m \u001b[0;34m\u001b[0m\u001b[0m\n\u001b[1;32m    512\u001b[0m \u001b[0;31m# XXX probably also want an abstract factory that knows when it makes\u001b[0m\u001b[0;34m\u001b[0m\u001b[0;34m\u001b[0m\u001b[0m\n",
      "\u001b[0;32m/home/idies/anaconda3/lib/python3.5/urllib/request.py\u001b[0m in \u001b[0;36m_call_chain\u001b[0;34m(self, chain, kind, meth_name, *args)\u001b[0m\n\u001b[1;32m    442\u001b[0m         \u001b[0;32mfor\u001b[0m \u001b[0mhandler\u001b[0m \u001b[0;32min\u001b[0m \u001b[0mhandlers\u001b[0m\u001b[0;34m:\u001b[0m\u001b[0;34m\u001b[0m\u001b[0m\n\u001b[1;32m    443\u001b[0m             \u001b[0mfunc\u001b[0m \u001b[0;34m=\u001b[0m \u001b[0mgetattr\u001b[0m\u001b[0;34m(\u001b[0m\u001b[0mhandler\u001b[0m\u001b[0;34m,\u001b[0m \u001b[0mmeth_name\u001b[0m\u001b[0;34m)\u001b[0m\u001b[0;34m\u001b[0m\u001b[0m\n\u001b[0;32m--> 444\u001b[0;31m             \u001b[0mresult\u001b[0m \u001b[0;34m=\u001b[0m \u001b[0mfunc\u001b[0m\u001b[0;34m(\u001b[0m\u001b[0;34m*\u001b[0m\u001b[0margs\u001b[0m\u001b[0;34m)\u001b[0m\u001b[0;34m\u001b[0m\u001b[0m\n\u001b[0m\u001b[1;32m    445\u001b[0m             \u001b[0;32mif\u001b[0m \u001b[0mresult\u001b[0m \u001b[0;32mis\u001b[0m \u001b[0;32mnot\u001b[0m \u001b[0;32mNone\u001b[0m\u001b[0;34m:\u001b[0m\u001b[0;34m\u001b[0m\u001b[0m\n\u001b[1;32m    446\u001b[0m                 \u001b[0;32mreturn\u001b[0m \u001b[0mresult\u001b[0m\u001b[0;34m\u001b[0m\u001b[0m\n",
      "\u001b[0;32m/home/idies/anaconda3/lib/python3.5/urllib/request.py\u001b[0m in \u001b[0;36mhttp_error_default\u001b[0;34m(self, req, fp, code, msg, hdrs)\u001b[0m\n\u001b[1;32m    588\u001b[0m \u001b[0;32mclass\u001b[0m \u001b[0mHTTPDefaultErrorHandler\u001b[0m\u001b[0;34m(\u001b[0m\u001b[0mBaseHandler\u001b[0m\u001b[0;34m)\u001b[0m\u001b[0;34m:\u001b[0m\u001b[0;34m\u001b[0m\u001b[0m\n\u001b[1;32m    589\u001b[0m     \u001b[0;32mdef\u001b[0m \u001b[0mhttp_error_default\u001b[0m\u001b[0;34m(\u001b[0m\u001b[0mself\u001b[0m\u001b[0;34m,\u001b[0m \u001b[0mreq\u001b[0m\u001b[0;34m,\u001b[0m \u001b[0mfp\u001b[0m\u001b[0;34m,\u001b[0m \u001b[0mcode\u001b[0m\u001b[0;34m,\u001b[0m \u001b[0mmsg\u001b[0m\u001b[0;34m,\u001b[0m \u001b[0mhdrs\u001b[0m\u001b[0;34m)\u001b[0m\u001b[0;34m:\u001b[0m\u001b[0;34m\u001b[0m\u001b[0m\n\u001b[0;32m--> 590\u001b[0;31m         \u001b[0;32mraise\u001b[0m \u001b[0mHTTPError\u001b[0m\u001b[0;34m(\u001b[0m\u001b[0mreq\u001b[0m\u001b[0;34m.\u001b[0m\u001b[0mfull_url\u001b[0m\u001b[0;34m,\u001b[0m \u001b[0mcode\u001b[0m\u001b[0;34m,\u001b[0m \u001b[0mmsg\u001b[0m\u001b[0;34m,\u001b[0m \u001b[0mhdrs\u001b[0m\u001b[0;34m,\u001b[0m \u001b[0mfp\u001b[0m\u001b[0;34m)\u001b[0m\u001b[0;34m\u001b[0m\u001b[0m\n\u001b[0m\u001b[1;32m    591\u001b[0m \u001b[0;34m\u001b[0m\u001b[0m\n\u001b[1;32m    592\u001b[0m \u001b[0;32mclass\u001b[0m \u001b[0mHTTPRedirectHandler\u001b[0m\u001b[0;34m(\u001b[0m\u001b[0mBaseHandler\u001b[0m\u001b[0;34m)\u001b[0m\u001b[0;34m:\u001b[0m\u001b[0;34m\u001b[0m\u001b[0m\n",
      "\u001b[0;31mHTTPError\u001b[0m: HTTP Error 403: Forbidden"
     ]
    }
   ],
   "source": [
    "import urllib\n",
    "import zipfile\n",
    "import os\n",
    "import numpy as np\n",
    "import pandas\n",
    "from pprint import pprint\n",
    "\n",
    "pandas.set_option('display.max_colwidth', -1)\n",
    "\n",
    "states = ['ak', 'al', 'ar', 'az', 'ca', 'co', 'ct', 'dc']\n",
    "states += ['de', 'fl', 'ga', 'hi', 'ia', 'id', 'il', 'in']\n",
    "states += ['ks', 'ky', 'la', 'ma', 'md', 'me', 'mi', 'mn']\n",
    "states += ['mo', 'ms', 'mt', 'nc', 'nd', 'ne', 'nh', 'nj']\n",
    "states += ['nm', 'nv', 'ny', 'oh', 'ok', 'or']\n",
    "states += ['pa', 'pr', 'ri', 'sc', 'sd', 'tn', 'tx', 'us']\n",
    "states += ['ut' ,'va', 'vt', 'wa', 'wi', 'wv', 'wy']\n",
    "\n",
    "#local_dir = '/home/idies/workspace/persistent/census/acs/'\n",
    "local_dir = '/home/idies/workspace/raddick_acs_data/'\n",
    "data_dir = local_dir + 'microdata/'\n",
    "\n",
    "if not (os.getcwd() == local_dir):\n",
    "    os.chdir(local_dir)\n",
    "if not (os.path.exists(data_dir)):\n",
    "    os.makedirs(data_dir)\n",
    "os.chdir(data_dir)\n",
    "print('In directory: '+os.getcwd())\n",
    "\n",
    "dirurl = 'https://www2.census.gov/programs-surveys/acs/data/pums/2016/1-Year/'\n",
    "\n",
    "print('Writing zipfiles...')\n",
    "for onestate in states:\n",
    "    filename = 'csv_p{0:}.zip'.format(onestate)\n",
    "    remotefilename = dirurl + filename\n",
    "    localfilename = data_dir + filename\n",
    "#    print('Reading {0:}'.format(remotefilename))\n",
    "    response = urllib.request.urlopen(remotefilename)\n",
    "    downloadedfile = response.read()\n",
    "    if (onestate in ('ak', 'fl', 'oh', 'tx', 'us', 'wy')):\n",
    "        print('Writing {0:}...'.format(filename))\n",
    "    with open(localfilename, 'wb') as f:\n",
    "        f.write(downloadedfile)\n",
    "        \n",
    "\n",
    "    \n",
    "#    print('Reading file...')\n",
    "#downloadedfile = response.read()\n",
    "    \n",
    "#print('Writing zipfile...')\n",
    "#with open('All_Geographies.zip', 'wb') as f:\n",
    "#    f.write(downloadedfile)\n",
    "\n",
    "#print('Reading zipfile...')\n",
    "#thezipfile = zipfile.ZipFile('All_Geographies.zip')\n",
    "\n",
    "#print('Extracting files...')\n",
    "#thezipfile.extractall()\n",
    "\n",
    "#thezipfile.close()\n",
    "\n",
    "print('done')"
   ]
  },
  {
   "cell_type": "code",
   "execution_count": 6,
   "metadata": {
    "collapsed": false,
    "deletable": true,
    "editable": true
   },
   "outputs": [
    {
     "name": "stdout",
     "output_type": "stream",
     "text": [
      "Extracting files...\n",
      "/home/idies/workspace/persistent/census/acs/microdata/csv_pak.zip\n",
      "/home/idies/workspace/persistent/census/acs/microdata/csv_pal.zip\n",
      "/home/idies/workspace/persistent/census/acs/microdata/csv_par.zip\n",
      "/home/idies/workspace/persistent/census/acs/microdata/csv_paz.zip\n",
      "/home/idies/workspace/persistent/census/acs/microdata/csv_pca.zip\n",
      "/home/idies/workspace/persistent/census/acs/microdata/csv_pco.zip\n",
      "/home/idies/workspace/persistent/census/acs/microdata/csv_pct.zip\n",
      "/home/idies/workspace/persistent/census/acs/microdata/csv_pdc.zip\n",
      "/home/idies/workspace/persistent/census/acs/microdata/csv_pde.zip\n",
      "/home/idies/workspace/persistent/census/acs/microdata/csv_pfl.zip\n",
      "/home/idies/workspace/persistent/census/acs/microdata/csv_pga.zip\n",
      "/home/idies/workspace/persistent/census/acs/microdata/csv_phi.zip\n",
      "/home/idies/workspace/persistent/census/acs/microdata/csv_pia.zip\n",
      "/home/idies/workspace/persistent/census/acs/microdata/csv_pid.zip\n",
      "/home/idies/workspace/persistent/census/acs/microdata/csv_pil.zip\n",
      "/home/idies/workspace/persistent/census/acs/microdata/csv_pin.zip\n",
      "/home/idies/workspace/persistent/census/acs/microdata/csv_pks.zip\n",
      "/home/idies/workspace/persistent/census/acs/microdata/csv_pky.zip\n",
      "/home/idies/workspace/persistent/census/acs/microdata/csv_pla.zip\n",
      "/home/idies/workspace/persistent/census/acs/microdata/csv_pma.zip\n",
      "/home/idies/workspace/persistent/census/acs/microdata/csv_pmd.zip\n",
      "/home/idies/workspace/persistent/census/acs/microdata/csv_pme.zip\n",
      "/home/idies/workspace/persistent/census/acs/microdata/csv_pmi.zip\n",
      "/home/idies/workspace/persistent/census/acs/microdata/csv_pmn.zip\n",
      "/home/idies/workspace/persistent/census/acs/microdata/csv_pmo.zip\n",
      "/home/idies/workspace/persistent/census/acs/microdata/csv_pms.zip\n",
      "/home/idies/workspace/persistent/census/acs/microdata/csv_pmt.zip\n",
      "/home/idies/workspace/persistent/census/acs/microdata/csv_pnc.zip\n",
      "/home/idies/workspace/persistent/census/acs/microdata/csv_pnd.zip\n",
      "/home/idies/workspace/persistent/census/acs/microdata/csv_pne.zip\n",
      "/home/idies/workspace/persistent/census/acs/microdata/csv_pnh.zip\n",
      "/home/idies/workspace/persistent/census/acs/microdata/csv_pnj.zip\n",
      "/home/idies/workspace/persistent/census/acs/microdata/csv_pnm.zip\n",
      "/home/idies/workspace/persistent/census/acs/microdata/csv_pnv.zip\n",
      "/home/idies/workspace/persistent/census/acs/microdata/csv_pny.zip\n",
      "/home/idies/workspace/persistent/census/acs/microdata/csv_poh.zip\n",
      "/home/idies/workspace/persistent/census/acs/microdata/csv_pok.zip\n",
      "/home/idies/workspace/persistent/census/acs/microdata/csv_por.zip\n",
      "/home/idies/workspace/persistent/census/acs/microdata/csv_ppa.zip\n",
      "/home/idies/workspace/persistent/census/acs/microdata/csv_ppr.zip\n",
      "/home/idies/workspace/persistent/census/acs/microdata/csv_pri.zip\n",
      "/home/idies/workspace/persistent/census/acs/microdata/csv_psc.zip\n",
      "/home/idies/workspace/persistent/census/acs/microdata/csv_psd.zip\n",
      "/home/idies/workspace/persistent/census/acs/microdata/csv_ptn.zip\n",
      "/home/idies/workspace/persistent/census/acs/microdata/csv_ptx.zip\n",
      "/home/idies/workspace/persistent/census/acs/microdata/csv_pus.zip\n",
      "/home/idies/workspace/persistent/census/acs/microdata/csv_put.zip\n",
      "/home/idies/workspace/persistent/census/acs/microdata/csv_pva.zip\n",
      "/home/idies/workspace/persistent/census/acs/microdata/csv_pvt.zip\n",
      "/home/idies/workspace/persistent/census/acs/microdata/csv_pwa.zip\n",
      "/home/idies/workspace/persistent/census/acs/microdata/csv_pwi.zip\n",
      "/home/idies/workspace/persistent/census/acs/microdata/csv_pwv.zip\n",
      "/home/idies/workspace/persistent/census/acs/microdata/csv_pwy.zip\n"
     ]
    }
   ],
   "source": [
    "print('Extracting files...')        \n",
    "for onestate in states:\n",
    "    thezipfilename = data_dir + 'csv_p{0:}.zip'.format(onestate)\n",
    "    print(thezipfilename)\n",
    "    thezipfile = zipfile.ZipFile(thezipfilename)    \n",
    "    thezipfile.extractall()\n",
    "    thezipfile.close()\n",
    "    os.remove(thezipfilename)\n",
    "print('Done')"
   ]
  },
  {
   "cell_type": "code",
   "execution_count": null,
   "metadata": {
    "collapsed": false,
    "deletable": true,
    "editable": true
   },
   "outputs": [],
   "source": [
    "import numpy as np\n",
    "import pandas\n",
    "from pprint import pprint\n",
    "import json\n",
    "x_df = pandas.read_csv('microdata/ss16pri.csv', low_memory=False)\n",
    "x_df = x_df.set_index('SERIALNO', drop=False)\n",
    "\n",
    "# Capitalize names of all columns for consistency with metadata file\n",
    "col_list = x_df.columns\n",
    "new_col_list = []\n",
    "for i in range(0, len(col_list)):\n",
    "    new_col_list.append(col_list[i].upper())\n",
    "x_df[new_col_list] = x_df[col_list]\n",
    "\n",
    "x_df.sample(2)"
   ]
  },
  {
   "cell_type": "code",
   "execution_count": null,
   "metadata": {
    "collapsed": false,
    "deletable": true,
    "editable": true
   },
   "outputs": [],
   "source": [
    "data_columns_list = x_df.sample(1).columns.sort_values().tolist()\n",
    "for i in range(0, len(data_columns_list)):\n",
    "    data_columns_list[i] = data_columns_list[i].upper()\n",
    "data_columns_list.sort()\n",
    "print('Columns in the person microdata:')\n",
    "data_columns_list"
   ]
  },
  {
   "cell_type": "code",
   "execution_count": null,
   "metadata": {
    "collapsed": false,
    "deletable": true,
    "editable": true
   },
   "outputs": [],
   "source": [
    "# PARSE METADATA\n",
    "with open('microdata/pums_metadata_person.txt', 'rt', encoding='utf-8') as f:\n",
    "    read_data = f.readlines()\n",
    "f.close()\n",
    "\n",
    "variables = {}\n",
    "varnames = []\n",
    "vardescription = []\n",
    "newvarline = -1\n",
    "counter = 0\n",
    "for aline in read_data:\n",
    "#    print(aline)\n",
    "    maybevarname = aline.strip().split(' ')[0]\n",
    "    \n",
    "    if ((aline.isupper()) | ('UNEDITED' in aline)):                            # if the entire line is uppercase...\n",
    "        thisvar = aline.strip().split('\\t')             # it's a variable, whose name is the text up to the first tab...\n",
    "        if not(thisvar[0].strip()[0].isnumeric()):      #  except that some all-caps lines are value codes starting with numbers\n",
    "            newvarline = counter                        # ALSO, this is the start of a new variable group, so record its line number...\n",
    "            thisvarname = thisvar[0].strip()\n",
    "            variables[thisvarname] = {}\n",
    "            variables[thisvarname]['name'] = thisvar[0].strip()\n",
    "    if ((counter - newvarline) == 1):\n",
    "        variables[thisvarname]['description'] = aline.strip()\n",
    "    if ((counter - newvarline) >= 2):\n",
    "        if (len(aline) > 0):\n",
    "            valueslist = aline.strip().split(' .')\n",
    "            if (len(valueslist) == 1):\n",
    "                if (len(valueslist[0]) > 0):\n",
    "                    variables[thisvarname]['note'] = aline.strip()\n",
    "#                    print('note: ', valueslist[0])\n",
    "            else:\n",
    "#                print('...and then....', valueslist)\n",
    "                variables[thisvarname]['values'] = {}\n",
    "                for j in range(0,7):\n",
    "                    variables[thisvarname]['values'][j] = j * 3\n",
    "\n",
    "#        print('..........and then: ',aline)\n",
    "    counter = counter + 1                            # increment the counter\n",
    "    \n",
    "metadata_columns_list = []\n",
    "for (key, value) in variables.items():\n",
    "    metadata_columns_list.append(key)\n",
    "metadata_columns_list.sort()\n",
    "print('Metadata about person microdata, parsed from pums_metadata_person.txt:')\n",
    "print(metadata_columns_list)"
   ]
  },
  {
   "cell_type": "code",
   "execution_count": null,
   "metadata": {
    "collapsed": false,
    "deletable": true,
    "editable": true
   },
   "outputs": [],
   "source": [
    "# Verify that the columns are the same in data and metadata\n",
    "\n",
    "print('Columns in data list: {0:,.0f}'.format(len(data_columns_list)))\n",
    "print('Columns in metadata list: {0:,.0f}'.format(len(metadata_columns_list)))\n",
    "\n",
    "for z in metadata_columns_list:\n",
    "    if (z not in data_columns_list):\n",
    "        print(z)\n",
    "        \n",
    "for z in data_columns_list:\n",
    "    if (z not in metadata_columns_list):\n",
    "        print(z)"
   ]
  },
  {
   "cell_type": "code",
   "execution_count": null,
   "metadata": {
    "collapsed": false,
    "deletable": true,
    "editable": true
   },
   "outputs": [],
   "source": [
    "# NEXT: How do we get the metadata to save in the same order?\n",
    "better_search_order = np.empty((len(x_df.columns),2), dtype=object)\n",
    "counter = 0\n",
    "current_columns = x_df.columns.tolist()\n",
    "for i in range(0, len(better_search_order)):\n",
    "    better_search_order[i,0] = current_columns[i]\n",
    "    better_search_order[i,1] = counter\n",
    "    counter = counter + 1\n",
    "better_search_order_df = pandas.DataFrame(better_search_order, columns={'column_name','sort_order'})\n",
    "\n",
    "better_search_order_df = better_search_order_df.set_index('column_name')\n",
    "better_search_order_df"
   ]
  },
  {
   "cell_type": "code",
   "execution_count": null,
   "metadata": {
    "collapsed": false,
    "deletable": true,
    "editable": true
   },
   "outputs": [],
   "source": [
    "for (thiskey, thisvalue) in variables.items():\n",
    "    variables[thiskey]['sort_order'] = better_search_order_df['sort_order'].loc[thiskey]\n",
    "#pprint(variables)\n",
    "variables_json = json.dumps(variables)\n",
    "with open('/home/idies/workspace/raddick_acs_data/microdata_variables_person.json', 'w') as f:\n",
    "    f.write(variables_json)\n",
    "print('Done')"
   ]
  },
  {
   "cell_type": "code",
   "execution_count": null,
   "metadata": {
    "collapsed": false,
    "deletable": true,
    "editable": true
   },
   "outputs": [],
   "source": [
    "x_df.to_csv('/home/idies/workspace/raddick_acs_data/microdata_person.csv')\n",
    "print('Done')"
   ]
  },
  {
   "cell_type": "code",
   "execution_count": null,
   "metadata": {
    "collapsed": false,
    "deletable": true,
    "editable": true
   },
   "outputs": [],
   "source": [
    "y_df = pandas.read_csv('/home/idies/workspace/raddick_acs_data/microdata_person.csv', index_col=0)\n",
    "y_df = y_df.rename(columns={'SERIALNO.1': 'SERIALNO'})\n",
    "#y_df.head(1)\n",
    "\n",
    "with open('/home/idies/workspace/raddick_acs_data/microdata_variables_person.json', 'r') as f:\n",
    "    z = f.read()\n",
    "    \n",
    "mdf_dict = json.loads(z)\n",
    "pprint(mdf_dict)"
   ]
  },
  {
   "cell_type": "code",
   "execution_count": null,
   "metadata": {
    "collapsed": true,
    "deletable": true,
    "editable": true
   },
   "outputs": [],
   "source": []
  }
 ],
 "metadata": {
  "kernelspec": {
   "display_name": "Python 3",
   "language": "python",
   "name": "python3"
  },
  "language_info": {
   "codemirror_mode": {
    "name": "ipython",
    "version": 3
   },
   "file_extension": ".py",
   "mimetype": "text/x-python",
   "name": "python",
   "nbconvert_exporter": "python",
   "pygments_lexer": "ipython3",
   "version": "3.5.3"
  }
 },
 "nbformat": 4,
 "nbformat_minor": 0
}
